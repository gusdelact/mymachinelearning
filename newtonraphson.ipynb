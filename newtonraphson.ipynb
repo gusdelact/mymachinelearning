{
  "nbformat": 4,
  "nbformat_minor": 0,
  "metadata": {
    "colab": {
      "name": "newtonraphson.ipynb",
      "provenance": [],
      "collapsed_sections": [],
      "authorship_tag": "ABX9TyMr3d+iMGQUrzYHeqtVsj1g",
      "include_colab_link": true
    },
    "kernelspec": {
      "name": "python3",
      "display_name": "Python 3"
    },
    "language_info": {
      "name": "python"
    }
  },
  "cells": [
    {
      "cell_type": "markdown",
      "metadata": {
        "id": "view-in-github",
        "colab_type": "text"
      },
      "source": [
        "<a href=\"https://colab.research.google.com/github/gusdelact/mymachinelearning/blob/main/newtonraphson.ipynb\" target=\"_parent\"><img src=\"https://colab.research.google.com/assets/colab-badge.svg\" alt=\"Open In Colab\"/></a>"
      ]
    },
    {
      "cell_type": "code",
      "source": [
        "import math"
      ],
      "metadata": {
        "id": "VMMUO4_xlf1Q"
      },
      "execution_count": 180,
      "outputs": []
    },
    {
      "cell_type": "code",
      "execution_count": 181,
      "metadata": {
        "id": "c0j9ZyhVc2s1"
      },
      "outputs": [],
      "source": [
        "def y(x,a3:float,a2:float,a1:float,a0:float) :\n",
        "   return a3*x*x*x + a2*x*x + a1*x + a0"
      ]
    },
    {
      "cell_type": "code",
      "source": [
        "def dy(x,a3:float,a2:float,a1:float) :\n",
        "    return 3*a3*x*x + 2*a2*x + a1"
      ],
      "metadata": {
        "id": "ShUi81P9dgjU"
      },
      "execution_count": 182,
      "outputs": []
    },
    {
      "cell_type": "code",
      "source": [
        "def raiz_cubica(x):\n",
        "    if x < 0:\n",
        "        x = abs(x)\n",
        "        raiz = x**(1/3)*(-1)\n",
        "    else:\n",
        "        raiz = x**(1/3)\n",
        "    return raiz"
      ],
      "metadata": {
        "id": "YJqKF4u9vtqC"
      },
      "execution_count": 183,
      "outputs": []
    },
    {
      "cell_type": "code",
      "source": [
        "def valor_inicial(grado : float, coeficiente_mayor_grado: float, coeficiente_independiente :float) -> float : \n",
        "    return raiz_cubica(-coeficiente_independiente/coeficiente_mayor_grado)"
      ],
      "metadata": {
        "id": "ckonjVQuiPZy"
      },
      "execution_count": 184,
      "outputs": []
    },
    {
      "cell_type": "code",
      "source": [
        "def raices_segundo_grado(a2: float,a1:float, a0:float) :\n",
        "     discriminante =  a1*a1 - 4*a2*a0\n",
        "     if  discriminante >= 0.0 :\n",
        "       raiz2 = ( -a1 + math.sqrt(discriminante) ) / 2*a2\n",
        "       raiz1 = ( -a1 - math.sqrt(discriminante) ) / 2*a2\n",
        "       return (raiz2,raiz1)\n",
        "     else :\n",
        "       return (complex(-a1/2,math.sqrt(abs(discriminante))/2),complex(-a1/2,-math.sqrt(abs(discriminante))/2))"
      ],
      "metadata": {
        "id": "twxYnosQjIz6"
      },
      "execution_count": 185,
      "outputs": []
    },
    {
      "cell_type": "code",
      "source": [
        "def division_sintetica(a3:float,a2:float,a1:float,a0:float, divisor :float) : \n",
        "   b2 = a3\n",
        "   b1 = a2 + b2*divisor\n",
        "   b0 = a1 + b1 * divisor\n",
        "   residuo = a0 + b0 * divisor\n",
        "   return (b2,b1,b0, residuo)"
      ],
      "metadata": {
        "id": "YwhGB2rnoih1"
      },
      "execution_count": 186,
      "outputs": []
    },
    {
      "cell_type": "code",
      "source": [
        "A=1\n",
        "B=-5\n",
        "C=2\n",
        "D=-7"
      ],
      "metadata": {
        "id": "Gv3qg4y8dpSq"
      },
      "execution_count": 187,
      "outputs": []
    },
    {
      "cell_type": "markdown",
      "source": [
        ""
      ],
      "metadata": {
        "id": "PzOMjBWOw2bX"
      }
    },
    {
      "cell_type": "code",
      "source": [
        "pow(-D/A,0.3333)"
      ],
      "metadata": {
        "colab": {
          "base_uri": "https://localhost:8080/"
        },
        "id": "BAxY663BuYqw",
        "outputId": "e8ebcf8d-a575-4cb7-9017-e458cc98c86d"
      },
      "execution_count": 188,
      "outputs": [
        {
          "output_type": "execute_result",
          "data": {
            "text/plain": [
              "1.9128071070563357"
            ]
          },
          "metadata": {},
          "execution_count": 188
        }
      ]
    },
    {
      "cell_type": "code",
      "source": [
        "x = valor_inicial(3,A,D)\n",
        "APROX_ZERO = 1E-9\n",
        "iteracion =1\n",
        "continuar = True\n",
        "while continuar :\n",
        "  y1 = y(x,A,B,C,D)\n",
        "  print(\"#iteracion:\",iteracion,\" x :\" , x , \"f(x):\", y1)\n",
        "  if (abs(y1) > APROX_ZERO ) :\n",
        "    dy1 = dy(x,A,B,C)\n",
        "    x_siguiente = x  - ( y1 / dy1 )\n",
        "    x = x_siguiente\n",
        "    iteracion = iteracion +1 \n",
        "  else :\n",
        "    continuar = False\n",
        "  raiz1 = x"
      ],
      "metadata": {
        "colab": {
          "base_uri": "https://localhost:8080/"
        },
        "id": "BFPf7lXYeJ7Q",
        "outputId": "9f14ab1b-56d5-4e1b-c2ec-246800e606df"
      },
      "execution_count": 189,
      "outputs": [
        {
          "output_type": "stream",
          "name": "stdout",
          "text": [
            "#iteracion: 1  x : 1.912931182772389 f(x): -14.470666184570078\n",
            "#iteracion: 2  x : -0.4394891862354007 f(x): -8.929619760220834\n",
            "#iteracion: 3  x : 0.8408634370755528 f(x): -8.258996121936782\n",
            "#iteracion: 4  x : -1.0854418353924722 f(x): -16.340653740418063\n",
            "#iteracion: 5  x : -0.08838994907613773 f(x): -7.216534385140833\n",
            "#iteracion: 6  x : 2.3937895505742173 f(x): -17.14660206494481\n",
            "#iteracion: 7  x : -1.2181427413201398 f(x): -18.663211760771127\n",
            "#iteracion: 8  x : -0.21652362127198788 f(x): -7.6776107994215606\n",
            "#iteracion: 9  x : 1.566527530662397 f(x): -12.292715577789355\n",
            "#iteracion: 10  x : -0.38369116290181515 f(x): -8.559963462447627\n",
            "#iteracion: 11  x : 0.9796711482424054 f(x): -8.899190666785874\n",
            "#iteracion: 12  x : -0.8300473167891649 f(x): -12.676872169305872\n",
            "#iteracion: 13  x : 0.19497517270611353 f(x): -6.792714201259642\n",
            "#iteracion: 14  x : 41.53978887262795 f(x): 63127.460603196065\n",
            "#iteracion: 15  x : 28.28680588458665 f(x): 18682.357348220117\n",
            "#iteracion: 16  x : 19.472552541782406 f(x): 5519.651955714876\n",
            "#iteracion: 17  x : 13.6305096829092 f(x): 1623.7302678413735\n",
            "#iteracion: 18  x : 9.792514351505181 f(x): 472.1552240440923\n",
            "#iteracion: 19  x : 7.330228893825209 f(x): 132.86891240075707\n",
            "#iteracion: 20  x : 5.852174675121721 f(x): 33.8895836755757\n",
            "#iteracion: 21  x : 5.118984604765211 f(x): 6.355842195420895\n",
            "#iteracion: 22  x : 4.902962351167754 f(x): 0.4732327983121305\n",
            "#iteracion: 23  x : 4.88409905769843 f(x): 0.0034479414689521093\n",
            "#iteracion: 24  x : 4.883959590730352 f(x): 1.8774445287306207e-07\n",
            "#iteracion: 25  x : 4.883959583135384 f(x): -3.552713678800501e-15\n"
          ]
        }
      ]
    },
    {
      "cell_type": "markdown",
      "source": [
        ""
      ],
      "metadata": {
        "id": "LiPmuxSpiDZg"
      }
    },
    {
      "cell_type": "code",
      "source": [
        "print(\"La raiz de la ecuacion es \", raiz1)"
      ],
      "metadata": {
        "colab": {
          "base_uri": "https://localhost:8080/"
        },
        "id": "MoRyD_EfhMFJ",
        "outputId": "2b4bb06a-08d6-4a71-fa80-431815b268d3"
      },
      "execution_count": 190,
      "outputs": [
        {
          "output_type": "stream",
          "name": "stdout",
          "text": [
            "La raiz de la ecuacion es  4.883959583135384\n"
          ]
        }
      ]
    },
    {
      "cell_type": "code",
      "source": [
        "(b1,b2,b3,residuo)=division_sintetica(A,B,C,D,raiz1 )"
      ],
      "metadata": {
        "id": "jMwdWwHKpS6D"
      },
      "execution_count": 191,
      "outputs": []
    },
    {
      "cell_type": "code",
      "source": [
        "print(b1,b2,b3,residuo)"
      ],
      "metadata": {
        "colab": {
          "base_uri": "https://localhost:8080/"
        },
        "id": "mPRykTWKp4GV",
        "outputId": "07f897b3-f79f-47b8-840d-1a9d7c6beee0"
      },
      "execution_count": 192,
      "outputs": [
        {
          "output_type": "stream",
          "name": "stdout",
          "text": [
            "1 -0.11604041686461564 1.4332632940230354 -7.993605777301127e-15\n"
          ]
        }
      ]
    },
    {
      "cell_type": "code",
      "source": [
        "(raiz2,raiz3)=raices_segundo_grado(b1,b2,b3)"
      ],
      "metadata": {
        "id": "f8zE2NgZoT3R"
      },
      "execution_count": 193,
      "outputs": []
    },
    {
      "cell_type": "code",
      "source": [
        "print(\"Raices de la ecuacion son :\", raiz1, raiz2, raiz3)"
      ],
      "metadata": {
        "colab": {
          "base_uri": "https://localhost:8080/"
        },
        "id": "cadbvJnzqJN1",
        "outputId": "6926b5a1-1eec-436d-f4c3-b17d422c17e2"
      },
      "execution_count": 194,
      "outputs": [
        {
          "output_type": "stream",
          "name": "stdout",
          "text": [
            "Raices de la ecuacion son : 4.883959583135384 (0.05802020843230782+1.1957829859286788j) (0.05802020843230782-1.1957829859286788j)\n"
          ]
        }
      ]
    }
  ]
}