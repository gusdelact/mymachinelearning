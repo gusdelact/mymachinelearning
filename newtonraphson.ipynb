{
  "nbformat": 4,
  "nbformat_minor": 0,
  "metadata": {
    "colab": {
      "name": "newtonraphson.ipynb",
      "provenance": [],
      "collapsed_sections": [],
      "authorship_tag": "ABX9TyOwo8WdcPjKmmQqV6LmOPVd",
      "include_colab_link": true
    },
    "kernelspec": {
      "name": "python3",
      "display_name": "Python 3"
    },
    "language_info": {
      "name": "python"
    }
  },
  "cells": [
    {
      "cell_type": "markdown",
      "metadata": {
        "id": "view-in-github",
        "colab_type": "text"
      },
      "source": [
        "<a href=\"https://colab.research.google.com/github/gusdelact/mymachinelearning/blob/main/newtonraphson.ipynb\" target=\"_parent\"><img src=\"https://colab.research.google.com/assets/colab-badge.svg\" alt=\"Open In Colab\"/></a>"
      ]
    },
    {
      "cell_type": "code",
      "execution_count": 26,
      "metadata": {
        "id": "c0j9ZyhVc2s1"
      },
      "outputs": [],
      "source": [
        "def y(x) :\n",
        "   return A*x*x*x + B*x*x + C*x + D"
      ]
    },
    {
      "cell_type": "code",
      "source": [
        "def dy(x) :\n",
        "    return 3*A*x*x + 2*B*x + C"
      ],
      "metadata": {
        "id": "ShUi81P9dgjU"
      },
      "execution_count": 27,
      "outputs": []
    },
    {
      "cell_type": "code",
      "source": [
        "A=1\n",
        "B=1\n",
        "C=-1\n",
        "D=1"
      ],
      "metadata": {
        "id": "Gv3qg4y8dpSq"
      },
      "execution_count": 28,
      "outputs": []
    },
    {
      "cell_type": "code",
      "source": [
        "x = 0\n",
        "APROX_ZERO = 1E-5\n",
        "iteracion =1\n",
        "continuar = True\n",
        "while continuar :\n",
        "  y1 = y(x)\n",
        "  print(\"x :\" , x , \"f(x):\", y1)\n",
        "  if (abs(y1) > APROX_ZERO ) :\n",
        "    x_siguiente = x  - ( y1 / dy(x) )\n",
        "    x = x_siguiente\n",
        "    iteracion = iteracion +1 \n",
        "  else :\n",
        "    continuar = False\n",
        "  raiz1 = x"
      ],
      "metadata": {
        "colab": {
          "base_uri": "https://localhost:8080/"
        },
        "id": "BFPf7lXYeJ7Q",
        "outputId": "49d144cb-e822-434e-fe69-672b72b88a7a"
      },
      "execution_count": 29,
      "outputs": [
        {
          "output_type": "stream",
          "name": "stdout",
          "text": [
            "x : 0 f(x): 1\n",
            "x : 1.0 f(x): 2.0\n",
            "x : 0.5 f(x): 0.875\n",
            "x : -0.6666666666666667 f(x): 1.8148148148148149\n",
            "x : 1.1481481481481481 f(x): 2.683635624650714\n",
            "x : 0.637079608343976 f(x): 1.0273625919295633\n",
            "x : -0.05160715196005272 f(x): 1.054133004861994\n",
            "x : 0.9108741401836794 f(x): 1.674562272248437\n",
            "x : 0.4050899043624021 f(x): 0.8254823007643888\n",
            "x : -2.3240180836760786 f(x): -3.8270830978519506\n",
            "x : -1.961438179450745 f(x): -0.7374449842083999\n",
            "x : -1.8500221808505781 f(x): -0.059248494124159556\n",
            "x : -1.8393807176849843 f(x): -0.0005140478474683352\n",
            "x : -1.83928676250499 f(x): -3.988341412686225e-08\n"
          ]
        }
      ]
    },
    {
      "cell_type": "code",
      "source": [
        "print(\"La raiz de la ecuacion es \", raiz1)"
      ],
      "metadata": {
        "colab": {
          "base_uri": "https://localhost:8080/"
        },
        "id": "MoRyD_EfhMFJ",
        "outputId": "fe86216d-bde5-4fa8-969a-688fabcc6891"
      },
      "execution_count": 30,
      "outputs": [
        {
          "output_type": "stream",
          "name": "stdout",
          "text": [
            "La raiz de la ecuacion es  -1.83928676250499\n"
          ]
        }
      ]
    }
  ]
}