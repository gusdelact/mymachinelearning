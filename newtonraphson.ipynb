{
  "nbformat": 4,
  "nbformat_minor": 0,
  "metadata": {
    "colab": {
      "name": "newtonraphson.ipynb",
      "provenance": [],
      "authorship_tag": "ABX9TyO9kebUNTRv4kAFLATVFoRj",
      "include_colab_link": true
    },
    "kernelspec": {
      "name": "python3",
      "display_name": "Python 3"
    },
    "language_info": {
      "name": "python"
    }
  },
  "cells": [
    {
      "cell_type": "markdown",
      "metadata": {
        "id": "view-in-github",
        "colab_type": "text"
      },
      "source": [
        "<a href=\"https://colab.research.google.com/github/gusdelact/mymachinelearning/blob/main/newtonraphson.ipynb\" target=\"_parent\"><img src=\"https://colab.research.google.com/assets/colab-badge.svg\" alt=\"Open In Colab\"/></a>"
      ]
    },
    {
      "cell_type": "code",
      "execution_count": 4,
      "metadata": {
        "id": "c0j9ZyhVc2s1"
      },
      "outputs": [],
      "source": [
        "\n",
        "def y(x) :\n",
        "   return A*x*x*x + B*x*x + C*x + D"
      ]
    },
    {
      "cell_type": "code",
      "source": [
        "def dy(x) :\n",
        "    return 3*A*x*x + 2*B*x + C"
      ],
      "metadata": {
        "id": "ShUi81P9dgjU"
      },
      "execution_count": 5,
      "outputs": []
    },
    {
      "cell_type": "code",
      "source": [
        "A=1\n",
        "B=1\n",
        "C=-1\n",
        "D=1\n",
        "x = 1\n"
      ],
      "metadata": {
        "id": "Gv3qg4y8dpSq"
      },
      "execution_count": null,
      "outputs": []
    },
    {
      "cell_type": "code",
      "source": [
        "x_siguiente = x  - ( y(x) / dy(x) )"
      ],
      "metadata": {
        "id": "BFPf7lXYeJ7Q"
      },
      "execution_count": null,
      "outputs": []
    }
  ]
}