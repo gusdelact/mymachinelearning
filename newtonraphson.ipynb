{
  "nbformat": 4,
  "nbformat_minor": 0,
  "metadata": {
    "colab": {
      "name": "newtonraphson.ipynb",
      "provenance": [],
      "collapsed_sections": [],
      "authorship_tag": "ABX9TyM4eZVGK53AqbQ/c0s+lU4m",
      "include_colab_link": true
    },
    "kernelspec": {
      "name": "python3",
      "display_name": "Python 3"
    },
    "language_info": {
      "name": "python"
    }
  },
  "cells": [
    {
      "cell_type": "markdown",
      "metadata": {
        "id": "view-in-github",
        "colab_type": "text"
      },
      "source": [
        "<a href=\"https://colab.research.google.com/github/gusdelact/mymachinelearning/blob/main/newtonraphson.ipynb\" target=\"_parent\"><img src=\"https://colab.research.google.com/assets/colab-badge.svg\" alt=\"Open In Colab\"/></a>"
      ]
    },
    {
      "cell_type": "code",
      "source": [
        "import math"
      ],
      "metadata": {
        "id": "VMMUO4_xlf1Q"
      },
      "execution_count": 87,
      "outputs": []
    },
    {
      "cell_type": "code",
      "execution_count": 88,
      "metadata": {
        "id": "c0j9ZyhVc2s1"
      },
      "outputs": [],
      "source": [
        "def y(x,a3:float,a2:float,a1:float,a0:float) :\n",
        "   return a3*x*x*x + a2*x*x + a1*x + a0"
      ]
    },
    {
      "cell_type": "code",
      "source": [
        "def dy(x,a3:float,a2:float,a1:float) :\n",
        "    return 3*a3*x*x + 2*a2*x + a1"
      ],
      "metadata": {
        "id": "ShUi81P9dgjU"
      },
      "execution_count": 89,
      "outputs": []
    },
    {
      "cell_type": "code",
      "source": [
        "def valor_inicial(grado : float, coeficiente_mayor_grado: float, coeficiente_independiente :float) :\n",
        "    return (coeficiente_independiente/coeficiente_mayor_grado) ** (1/grado)"
      ],
      "metadata": {
        "id": "ckonjVQuiPZy"
      },
      "execution_count": 90,
      "outputs": []
    },
    {
      "cell_type": "code",
      "source": [
        "def raices_segundo_grado(a2: float,a1:float, a0:float) :\n",
        "     discriminante =  a1*a1 - 4*a2*a0\n",
        "     if  discriminante >= 0.0 :\n",
        "       raiz2 = ( -a1 + math.sqrt(discriminante) ) / 2*a2\n",
        "       raiz1 = ( -a1 - math.sqrt(discriminante) ) / 2*a2\n",
        "       return (raiz2,raiz1)\n",
        "     else :\n",
        "       return (math.nan,math.nan)"
      ],
      "metadata": {
        "id": "twxYnosQjIz6"
      },
      "execution_count": 91,
      "outputs": []
    },
    {
      "cell_type": "code",
      "source": [
        "def division_sintetica(a3:float,a2:float,a1:float,a0:float, divisor :float) : \n",
        "   b2 = a3\n",
        "   b1 = a2 + b2*divisor\n",
        "   b0 = a1 + b1 * divisor\n",
        "   residuo = a0 + b0 * divisor\n",
        "   return (b2,b1,b0, residuo)"
      ],
      "metadata": {
        "id": "YwhGB2rnoih1"
      },
      "execution_count": 92,
      "outputs": []
    },
    {
      "cell_type": "code",
      "source": [
        "A=1\n",
        "B=0\n",
        "C=-7\n",
        "D=6"
      ],
      "metadata": {
        "id": "Gv3qg4y8dpSq"
      },
      "execution_count": 93,
      "outputs": []
    },
    {
      "cell_type": "code",
      "source": [
        "x = valor_inicial(3,A,D)\n",
        "APROX_ZERO = 1E-9\n",
        "iteracion =1\n",
        "continuar = True\n",
        "while continuar :\n",
        "  y1 = y(x,A,B,C,D)\n",
        "  print(\"#iteracion:\",iteracion,\" x :\" , x , \"f(x):\", y1)\n",
        "  if (abs(y1) > APROX_ZERO ) :\n",
        "    dy1 = dy(x,A,B,C)\n",
        "    x_siguiente = x  - ( y1 / dy1 )\n",
        "    x = x_siguiente\n",
        "    iteracion = iteracion +1 \n",
        "  else :\n",
        "    continuar = False\n",
        "  raiz1 = x"
      ],
      "metadata": {
        "colab": {
          "base_uri": "https://localhost:8080/"
        },
        "id": "BFPf7lXYeJ7Q",
        "outputId": "36272b80-9e30-485e-f0f2-e86e23b8f9b9"
      },
      "execution_count": 94,
      "outputs": [
        {
          "output_type": "stream",
          "name": "stdout",
          "text": [
            "#iteracion: 1  x : 1.8171205928321397 f(x): -0.7198441498249775\n",
            "#iteracion: 2  x : 2.064848816277164 f(x): 0.34974900842099466\n",
            "#iteracion: 3  x : 2.004451480238871 f(x): 0.022376383461347515\n",
            "#iteracion: 4  x : 2.0000235620882694 f(x): 0.00011781377239294955\n",
            "#iteracion: 5  x : 2.000000000666174 f(x): 3.3308680258414824e-09\n",
            "#iteracion: 6  x : 2.0 f(x): 0.0\n"
          ]
        }
      ]
    },
    {
      "cell_type": "markdown",
      "source": [
        ""
      ],
      "metadata": {
        "id": "LiPmuxSpiDZg"
      }
    },
    {
      "cell_type": "code",
      "source": [
        "print(\"La raiz de la ecuacion es \", raiz1)"
      ],
      "metadata": {
        "colab": {
          "base_uri": "https://localhost:8080/"
        },
        "id": "MoRyD_EfhMFJ",
        "outputId": "d0f9330f-d502-45e9-a12a-130c39bbc245"
      },
      "execution_count": 95,
      "outputs": [
        {
          "output_type": "stream",
          "name": "stdout",
          "text": [
            "La raiz de la ecuacion es  2.0\n"
          ]
        }
      ]
    },
    {
      "cell_type": "code",
      "source": [
        "(b1,b2,b3,residuo)=division_sintetica(A,B,C,D,raiz1 )"
      ],
      "metadata": {
        "id": "jMwdWwHKpS6D"
      },
      "execution_count": 96,
      "outputs": []
    },
    {
      "cell_type": "code",
      "source": [
        "print(b1,b2,b3,residuo)"
      ],
      "metadata": {
        "colab": {
          "base_uri": "https://localhost:8080/"
        },
        "id": "mPRykTWKp4GV",
        "outputId": "f6e0f98f-a00a-42fb-c3f1-f94f9fe19c20"
      },
      "execution_count": 97,
      "outputs": [
        {
          "output_type": "stream",
          "name": "stdout",
          "text": [
            "1 2.0 -3.0 0.0\n"
          ]
        }
      ]
    },
    {
      "cell_type": "code",
      "source": [
        "(raiz2,raiz3)=raices_segundo_grado(b1,b2,b3)"
      ],
      "metadata": {
        "id": "f8zE2NgZoT3R"
      },
      "execution_count": 103,
      "outputs": []
    },
    {
      "cell_type": "code",
      "source": [
        "print(\"Raices de la ecuacion son :\", raiz1, raiz2, raiz3)"
      ],
      "metadata": {
        "colab": {
          "base_uri": "https://localhost:8080/"
        },
        "id": "cadbvJnzqJN1",
        "outputId": "c49cbb88-a6fc-4e48-e992-c49199a47560"
      },
      "execution_count": 104,
      "outputs": [
        {
          "output_type": "stream",
          "name": "stdout",
          "text": [
            "Raices de la ecuacion son : 2.0 1.0 -3.0\n"
          ]
        }
      ]
    }
  ]
}