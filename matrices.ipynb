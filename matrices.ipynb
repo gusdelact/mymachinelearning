{
  "nbformat": 4,
  "nbformat_minor": 0,
  "metadata": {
    "colab": {
      "name": "matrices.ipynb",
      "provenance": [],
      "collapsed_sections": [],
      "authorship_tag": "ABX9TyOMyGuAwTO/0QaMZKz7/ySa",
      "include_colab_link": true
    },
    "kernelspec": {
      "name": "python3",
      "display_name": "Python 3"
    },
    "language_info": {
      "name": "python"
    }
  },
  "cells": [
    {
      "cell_type": "markdown",
      "metadata": {
        "id": "view-in-github",
        "colab_type": "text"
      },
      "source": [
        "<a href=\"https://colab.research.google.com/github/gusdelact/mymachinelearning/blob/main/matrices.ipynb\" target=\"_parent\"><img src=\"https://colab.research.google.com/assets/colab-badge.svg\" alt=\"Open In Colab\"/></a>"
      ]
    },
    {
      "cell_type": "code",
      "execution_count": 21,
      "metadata": {
        "colab": {
          "base_uri": "https://localhost:8080/"
        },
        "id": "xQiiPZHZ1toD",
        "outputId": "6378913b-f356-4715-c263-d1c99146d60d"
      },
      "outputs": [
        {
          "output_type": "stream",
          "name": "stdout",
          "text": [
            "[3, 4, 5, 6]\n",
            "[7, 8, 8, 9]\n"
          ]
        }
      ],
      "source": [
        "#matriz de 2 renglone por 4 columnas 2 x 4\n",
        "mt0 = [\n",
        "       [3,4,5,6] ,\n",
        "       [7,8,8,9]\n",
        "]\n",
        "\n",
        "print(mt0[0])\n",
        "print(mt0[1])"
      ]
    },
    {
      "cell_type": "code",
      "source": [
        "#matriz de 4 renglones por 2 columnas 4 x 2\n",
        "mt1 = [\n",
        "       [-3,2] ,\n",
        "       [5,0] ,\n",
        "       [4,0],\n",
        "       [3,1]\n",
        "]\n",
        "print(mt1[0]) \n",
        "print(mt1[1]) \n",
        "print(mt1[2]) "
      ],
      "metadata": {
        "colab": {
          "base_uri": "https://localhost:8080/"
        },
        "id": "CWsmq-gd2lNN",
        "outputId": "a37974c2-6456-4801-c847-2f3bcb4616e8"
      },
      "execution_count": 22,
      "outputs": [
        {
          "output_type": "stream",
          "name": "stdout",
          "text": [
            "[-3, 2]\n",
            "[5, 0]\n",
            "[4, 0]\n"
          ]
        }
      ]
    },
    {
      "cell_type": "code",
      "source": [
        "# matriz cuadrada de 3 x 3\n",
        "mat2 = [\n",
        "        [1 ,2 ,3],\n",
        "        [-1 ,-2 , -3],\n",
        "        [7, -8, -21]\n",
        "\n",
        "]\n",
        "print(mat2[0])\n",
        "print(mat2[1])\n",
        "print(mat2[2])\n",
        "print(mat2[1][1])"
      ],
      "metadata": {
        "colab": {
          "base_uri": "https://localhost:8080/"
        },
        "id": "wS4GEbQb2szR",
        "outputId": "8dea0c3a-6f45-4d1e-d2f3-5541113a53d8"
      },
      "execution_count": 23,
      "outputs": [
        {
          "output_type": "stream",
          "name": "stdout",
          "text": [
            "[1, 2, 3]\n",
            "[-1, -2, -3]\n",
            "[7, -8, -21]\n",
            "-2\n"
          ]
        }
      ]
    },
    {
      "cell_type": "code",
      "source": [
        "#matriz cero de 2 x 2 \n",
        "m_cero_2x2 = [\n",
        "         [0,0] ,\n",
        "         [0,0]         \n",
        "]"
      ],
      "metadata": {
        "id": "pnOVOb5B6pqa"
      },
      "execution_count": 24,
      "outputs": []
    },
    {
      "cell_type": "code",
      "source": [
        "#matriz cero de 3 x 3\n",
        "m_cero_3x3 = [\n",
        "         [0,0,0] ,\n",
        "         [0,0,0] ,\n",
        "         [0,0,0]         \n",
        "]"
      ],
      "metadata": {
        "id": "jz1dxywZ6xr5"
      },
      "execution_count": 25,
      "outputs": []
    },
    {
      "cell_type": "code",
      "source": [
        "#matriz unitaria de 2 x 2\n",
        "m_unitaria_2x2 = [\n",
        "         [1,0] ,\n",
        "         [0,1]         \n",
        "]"
      ],
      "metadata": {
        "id": "mML5IWcq3g-O"
      },
      "execution_count": 26,
      "outputs": []
    },
    {
      "cell_type": "code",
      "source": [
        "#matriz unitaria de 3 x 3\n",
        "m_unitaria_3x3 = [\n",
        "         [1,0,0] ,\n",
        "         [0,1,0] ,\n",
        "         [0,0,1]         \n",
        "]"
      ],
      "metadata": {
        "id": "AICggBRU5b7t"
      },
      "execution_count": 27,
      "outputs": []
    },
    {
      "cell_type": "code",
      "source": [
        "#matriz diagonal 3 x3\n",
        "m_diagonal_3x3 = [\n",
        "         [-7,0,0] ,\n",
        "         [0,5,0] ,\n",
        "         [0,0,10]               \n",
        "]"
      ],
      "metadata": {
        "id": "dL5fjiHm7AR2"
      },
      "execution_count": 28,
      "outputs": []
    },
    {
      "cell_type": "code",
      "source": [
        "#matrices triangulares\n",
        "m_triangular_superior = [\n",
        "      [4,5,6] ,\n",
        "      [0,1,3], \n",
        "      [0,0,-2]                  \n",
        "]\n",
        "m_trianguar_inferior = [\n",
        "      [4,0,0] ,\n",
        "      [1,1,0], \n",
        "      [3,-3,-2]                  \n",
        "]"
      ],
      "metadata": {
        "id": "xBm4iQxN7Dgh"
      },
      "execution_count": 29,
      "outputs": []
    },
    {
      "cell_type": "code",
      "source": [
        "#matriz transpuesta\n",
        "mat3 = [ \n",
        "        [1,2],\n",
        "        [3,4]\n",
        "]\n",
        "#los renglones se vuelven columnas y las columnas se vuelven renglones\n",
        "mat3T = [\n",
        "      [1,3],\n",
        "      [2,4]\n",
        "]\n",
        "\n",
        "mat4 = [\n",
        "    [4,5,6,7],\n",
        "    [3,2,1,0]\n",
        "]\n",
        "mat4T= [\n",
        "    [4,3],\n",
        "    [5,2],\n",
        "    [6,1],\n",
        "    [7,0]    \n",
        "]"
      ],
      "metadata": {
        "id": "6StuY8Qa813L"
      },
      "execution_count": 30,
      "outputs": []
    },
    {
      "cell_type": "code",
      "source": [
        "#matriz simetrica \n",
        "mat5 = [\n",
        "        [1,4,7],\n",
        "        [4,2,5],\n",
        "        [7,5,6]\n",
        "]\n",
        "mat5T= [\n",
        "        [1,4,7],\n",
        "        [4,2,5],\n",
        "        [7,5,6]\n",
        "]\n",
        "\n",
        "mat5 == mat5T"
      ],
      "metadata": {
        "colab": {
          "base_uri": "https://localhost:8080/"
        },
        "id": "TAxruKE59iP8",
        "outputId": "f0a91daf-90dc-4a06-c8df-8cba614de6ca"
      },
      "execution_count": 31,
      "outputs": [
        {
          "output_type": "execute_result",
          "data": {
            "text/plain": [
              "True"
            ]
          },
          "metadata": {},
          "execution_count": 31
        }
      ]
    },
    {
      "cell_type": "code",
      "source": [
        "mat6 = [ [1,3],\n",
        "          [-1,5]  \n",
        "      ]\n",
        "det_mat6= mat6[0][0]*mat6[1][1] - mat6[0][1]* mat6[1][0]\n",
        "print(det_mat6)"
      ],
      "metadata": {
        "colab": {
          "base_uri": "https://localhost:8080/"
        },
        "id": "f3mVwNXP90oW",
        "outputId": "87ac14ee-87ca-4331-c700-ff3424c47c3c"
      },
      "execution_count": 34,
      "outputs": [
        {
          "output_type": "stream",
          "name": "stdout",
          "text": [
            "8\n"
          ]
        }
      ]
    },
    {
      "cell_type": "code",
      "source": [
        "mat7 = [ [1,3],\n",
        "          [3,9]  \n",
        "      ]\n",
        "det_mat7= mat7[0][0]*mat7[1][1] - mat7[0][1]* mat7[1][0]\n",
        "print(det_mat7)"
      ],
      "metadata": {
        "colab": {
          "base_uri": "https://localhost:8080/"
        },
        "id": "ioh4GWx7-ui9",
        "outputId": "642355e9-7946-4161-b575-ef2390a4e3aa"
      },
      "execution_count": 35,
      "outputs": [
        {
          "output_type": "stream",
          "name": "stdout",
          "text": [
            "0\n"
          ]
        }
      ]
    },
    {
      "cell_type": "code",
      "source": [
        "mat6 + mat7"
      ],
      "metadata": {
        "colab": {
          "base_uri": "https://localhost:8080/"
        },
        "id": "fww69rUjA1jh",
        "outputId": "42a5c62c-7a79-4596-9b2f-55f65420ea8c"
      },
      "execution_count": 47,
      "outputs": [
        {
          "output_type": "execute_result",
          "data": {
            "text/plain": [
              "[[1, 3], [-1, 5], [1, 3], [3, 9]]"
            ]
          },
          "metadata": {},
          "execution_count": 47
        }
      ]
    },
    {
      "cell_type": "code",
      "source": [
        "#mat6 - mat7"
      ],
      "metadata": {
        "id": "BmEaLJcSA5R_"
      },
      "execution_count": null,
      "outputs": []
    },
    {
      "cell_type": "code",
      "source": [
        "#mat6 * mat7"
      ],
      "metadata": {
        "id": "bACIzFTmBbDs"
      },
      "execution_count": null,
      "outputs": []
    },
    {
      "cell_type": "code",
      "source": [
        "import numpy as np"
      ],
      "metadata": {
        "id": "F45REfb8ANl3"
      },
      "execution_count": 42,
      "outputs": []
    },
    {
      "cell_type": "code",
      "source": [
        "np_mat6=np.array(mat6)"
      ],
      "metadata": {
        "id": "p7DvuDyQAPsr"
      },
      "execution_count": 43,
      "outputs": []
    },
    {
      "cell_type": "code",
      "source": [
        "np_mat7=np.array(mat7)"
      ],
      "metadata": {
        "id": "B4g6kcgOBDON"
      },
      "execution_count": 44,
      "outputs": []
    },
    {
      "cell_type": "code",
      "source": [
        "np_mat6 + np_mat7"
      ],
      "metadata": {
        "colab": {
          "base_uri": "https://localhost:8080/"
        },
        "id": "sOIig_VyBKgs",
        "outputId": "4733b125-3715-4366-bf94-2c62e920aa79"
      },
      "execution_count": 45,
      "outputs": [
        {
          "output_type": "execute_result",
          "data": {
            "text/plain": [
              "array([[ 2,  6],\n",
              "       [ 2, 14]])"
            ]
          },
          "metadata": {},
          "execution_count": 45
        }
      ]
    },
    {
      "cell_type": "code",
      "source": [
        "np_mat6 - np_mat7"
      ],
      "metadata": {
        "colab": {
          "base_uri": "https://localhost:8080/"
        },
        "id": "vAqhjjzlBQYM",
        "outputId": "624321b5-b923-4962-8933-e117c71c0396"
      },
      "execution_count": 46,
      "outputs": [
        {
          "output_type": "execute_result",
          "data": {
            "text/plain": [
              "array([[ 0,  0],\n",
              "       [-4, -4]])"
            ]
          },
          "metadata": {},
          "execution_count": 46
        }
      ]
    },
    {
      "cell_type": "code",
      "source": [
        "#esto no es una producto cruz\n",
        "np_mat6 * np_mat7"
      ],
      "metadata": {
        "colab": {
          "base_uri": "https://localhost:8080/"
        },
        "id": "E47tC9RSBWMX",
        "outputId": "83ba5a93-b526-402c-8ce2-6df08e20e94b"
      },
      "execution_count": 50,
      "outputs": [
        {
          "output_type": "execute_result",
          "data": {
            "text/plain": [
              "array([[ 1,  9],\n",
              "       [-3, 45]])"
            ]
          },
          "metadata": {},
          "execution_count": 50
        }
      ]
    },
    {
      "cell_type": "code",
      "source": [
        "#determinante de la matriz usando el modulo linalg\n",
        "np.linalg.det(np_mat6)"
      ],
      "metadata": {
        "colab": {
          "base_uri": "https://localhost:8080/"
        },
        "id": "v64cBRCcCPor",
        "outputId": "613d6536-8c66-484d-b966-16ae1182a9c3"
      },
      "execution_count": 52,
      "outputs": [
        {
          "output_type": "execute_result",
          "data": {
            "text/plain": [
              "7.999999999999998"
            ]
          },
          "metadata": {},
          "execution_count": 52
        }
      ]
    },
    {
      "cell_type": "code",
      "source": [
        "np.linalg.det(np_mat7)"
      ],
      "metadata": {
        "colab": {
          "base_uri": "https://localhost:8080/"
        },
        "id": "WEBMhTqkCljH",
        "outputId": "e35d3769-f3ed-403c-e153-3702f49dd1bc"
      },
      "execution_count": 54,
      "outputs": [
        {
          "output_type": "execute_result",
          "data": {
            "text/plain": [
              "0.0"
            ]
          },
          "metadata": {},
          "execution_count": 54
        }
      ]
    },
    {
      "cell_type": "code",
      "source": [
        "np.matmul(np_mat6,np_mat7)"
      ],
      "metadata": {
        "colab": {
          "base_uri": "https://localhost:8080/"
        },
        "id": "60RHt9y2DSpZ",
        "outputId": "207558d2-e3a6-4906-f639-dcb390902125"
      },
      "execution_count": 60,
      "outputs": [
        {
          "output_type": "execute_result",
          "data": {
            "text/plain": [
              "array([[10, 30],\n",
              "       [14, 42]])"
            ]
          },
          "metadata": {},
          "execution_count": 60
        }
      ]
    },
    {
      "cell_type": "code",
      "source": [
        "#multiplicacion de matrices\n",
        "np.dot(np_mat6,np_mat7)"
      ],
      "metadata": {
        "colab": {
          "base_uri": "https://localhost:8080/"
        },
        "id": "p0JqD1aqC2xG",
        "outputId": "12ad041b-7933-4766-fac1-5d642f1d2aca"
      },
      "execution_count": 57,
      "outputs": [
        {
          "output_type": "execute_result",
          "data": {
            "text/plain": [
              "array([[10, 30],\n",
              "       [14, 42]])"
            ]
          },
          "metadata": {},
          "execution_count": 57
        }
      ]
    },
    {
      "cell_type": "code",
      "source": [
        "np_mat6.dot(np_mat7)"
      ],
      "metadata": {
        "colab": {
          "base_uri": "https://localhost:8080/"
        },
        "id": "oV6F3oEiEkO9",
        "outputId": "a9643c1f-0bb1-4d02-b85b-64aeaf6956cb"
      },
      "execution_count": 66,
      "outputs": [
        {
          "output_type": "execute_result",
          "data": {
            "text/plain": [
              "array([[10, 30],\n",
              "       [14, 42]])"
            ]
          },
          "metadata": {},
          "execution_count": 66
        }
      ]
    },
    {
      "cell_type": "code",
      "source": [
        "np.linalg.inv(np_mat6)"
      ],
      "metadata": {
        "colab": {
          "base_uri": "https://localhost:8080/"
        },
        "id": "g02X8hKeEBHA",
        "outputId": "a6d0b0a3-4adc-4444-e784-4e17e19f7307"
      },
      "execution_count": 62,
      "outputs": [
        {
          "output_type": "execute_result",
          "data": {
            "text/plain": [
              "array([[ 0.625, -0.375],\n",
              "       [ 0.125,  0.125]])"
            ]
          },
          "metadata": {},
          "execution_count": 62
        }
      ]
    },
    {
      "cell_type": "code",
      "source": [
        "\n",
        "np.linalg.inv(np_mat6).dot(np_mat6)"
      ],
      "metadata": {
        "colab": {
          "base_uri": "https://localhost:8080/"
        },
        "id": "oohvI3I4EJAJ",
        "outputId": "958db927-32dc-4ee1-ba38-dc2b3b697bfc"
      },
      "execution_count": 64,
      "outputs": [
        {
          "output_type": "execute_result",
          "data": {
            "text/plain": [
              "array([[1., 0.],\n",
              "       [0., 1.]])"
            ]
          },
          "metadata": {},
          "execution_count": 64
        }
      ]
    },
    {
      "cell_type": "code",
      "source": [
        "np.dot( np_mat6, np.linalg.inv(np_mat6) )"
      ],
      "metadata": {
        "colab": {
          "base_uri": "https://localhost:8080/"
        },
        "id": "iWIX22IQETQW",
        "outputId": "6730fc24-2009-4175-a9d9-ae20616b3ed7"
      },
      "execution_count": 65,
      "outputs": [
        {
          "output_type": "execute_result",
          "data": {
            "text/plain": [
              "array([[1., 0.],\n",
              "       [0., 1.]])"
            ]
          },
          "metadata": {},
          "execution_count": 65
        }
      ]
    },
    {
      "cell_type": "code",
      "source": [
        "np_mat6@np_mat7"
      ],
      "metadata": {
        "colab": {
          "base_uri": "https://localhost:8080/"
        },
        "id": "W6Y6qd5xEoWF",
        "outputId": "5ccabc6f-4f7b-480b-d19c-03e362fe7cbe"
      },
      "execution_count": 68,
      "outputs": [
        {
          "output_type": "execute_result",
          "data": {
            "text/plain": [
              "array([[10, 30],\n",
              "       [14, 42]])"
            ]
          },
          "metadata": {},
          "execution_count": 68
        }
      ]
    },
    {
      "cell_type": "code",
      "source": [
        "np_arr1=np.array([1,2,3])\n",
        "np_arr2=np.array([4,5,6])\n",
        "np_arr1.dot(np_arr2)\n"
      ],
      "metadata": {
        "colab": {
          "base_uri": "https://localhost:8080/"
        },
        "id": "zj0YUGiFGadc",
        "outputId": "f55f4316-f4be-48a5-8f31-478977c4cae1"
      },
      "execution_count": 83,
      "outputs": [
        {
          "output_type": "execute_result",
          "data": {
            "text/plain": [
              "32"
            ]
          },
          "metadata": {},
          "execution_count": 83
        }
      ]
    },
    {
      "cell_type": "code",
      "source": [
        "np.inner(np_arr1,np_arr2)"
      ],
      "metadata": {
        "colab": {
          "base_uri": "https://localhost:8080/"
        },
        "id": "zF9gJc8cHg8R",
        "outputId": "3a4959ee-c987-4a18-c766-985cfed481f4"
      },
      "execution_count": 85,
      "outputs": [
        {
          "output_type": "execute_result",
          "data": {
            "text/plain": [
              "32"
            ]
          },
          "metadata": {},
          "execution_count": 85
        }
      ]
    },
    {
      "cell_type": "code",
      "source": [
        "np_mat5  = np.matrix(mat5)\n",
        "np_mat5T = np_mat5.transpose()"
      ],
      "metadata": {
        "id": "wMNEwcOUFC4H"
      },
      "execution_count": 91,
      "outputs": []
    },
    {
      "cell_type": "code",
      "source": [
        "np_mat5"
      ],
      "metadata": {
        "colab": {
          "base_uri": "https://localhost:8080/"
        },
        "id": "sd-WJARoHIww",
        "outputId": "0faa6d85-b96d-4bbb-bfa8-f35fe9b819fa"
      },
      "execution_count": 92,
      "outputs": [
        {
          "output_type": "execute_result",
          "data": {
            "text/plain": [
              "matrix([[1, 4, 7],\n",
              "        [4, 2, 5],\n",
              "        [7, 5, 6]])"
            ]
          },
          "metadata": {},
          "execution_count": 92
        }
      ]
    },
    {
      "cell_type": "code",
      "source": [
        "np_mat5T"
      ],
      "metadata": {
        "colab": {
          "base_uri": "https://localhost:8080/"
        },
        "id": "HtNBxKvaIqvi",
        "outputId": "6c5acfc3-8077-4014-bae8-e0703d27be27"
      },
      "execution_count": 93,
      "outputs": [
        {
          "output_type": "execute_result",
          "data": {
            "text/plain": [
              "matrix([[1, 4, 7],\n",
              "        [4, 2, 5],\n",
              "        [7, 5, 6]])"
            ]
          },
          "metadata": {},
          "execution_count": 93
        }
      ]
    },
    {
      "cell_type": "code",
      "source": [
        "np.matrix([\n",
        "    [1,2,3],\n",
        "    [4,5,6]\n",
        "]\n",
        ").dot(\n",
        "np.matrix(\n",
        "    [\n",
        "     [6,7,8,9],\n",
        "     [0,1,2,3],\n",
        "     [4,5,6,7]\n",
        "    ]\n",
        ")\n",
        ")"
      ],
      "metadata": {
        "colab": {
          "base_uri": "https://localhost:8080/"
        },
        "id": "Pp8Og9sFJX7m",
        "outputId": "c82e20d0-0e85-4cfb-8b79-f2471b8285b9"
      },
      "execution_count": 98,
      "outputs": [
        {
          "output_type": "execute_result",
          "data": {
            "text/plain": [
              "matrix([[18, 24, 30, 36],\n",
              "        [48, 63, 78, 93]])"
            ]
          },
          "metadata": {},
          "execution_count": 98
        }
      ]
    },
    {
      "cell_type": "code",
      "source": [
        "np.array([\n",
        "    [1,2,3],\n",
        "    [4,5,6]\n",
        "]\n",
        ").dot(\n",
        "np.array(\n",
        "    [\n",
        "     [6,7,8,9],\n",
        "     [0,1,2,3],\n",
        "     [4,5,6,7]\n",
        "    ]\n",
        ")\n",
        ")"
      ],
      "metadata": {
        "colab": {
          "base_uri": "https://localhost:8080/"
        },
        "id": "5FEtoHHIJ6do",
        "outputId": "1656ba1a-d4b4-47a8-c9c9-42f5852475ed"
      },
      "execution_count": 99,
      "outputs": [
        {
          "output_type": "execute_result",
          "data": {
            "text/plain": [
              "array([[18, 24, 30, 36],\n",
              "       [48, 63, 78, 93]])"
            ]
          },
          "metadata": {},
          "execution_count": 99
        }
      ]
    },
    {
      "cell_type": "code",
      "source": [
        "np.inner(\n",
        "    np.array([\n",
        "    [1,2,3],\n",
        "    [4,5,6],\n",
        "    [7,8,9]\n",
        "]\n",
        "),\n",
        "np.array(\n",
        "    [\n",
        "     [6,7,8],\n",
        "     [0,1,2],\n",
        "     [4,5,6]\n",
        "    ]\n",
        ")\n",
        ")"
      ],
      "metadata": {
        "colab": {
          "base_uri": "https://localhost:8080/"
        },
        "id": "imjnYfCoKCRq",
        "outputId": "011ba749-63eb-4caf-c5a8-6f29c3526ab6"
      },
      "execution_count": 103,
      "outputs": [
        {
          "output_type": "execute_result",
          "data": {
            "text/plain": [
              "array([[ 44,   8,  32],\n",
              "       [107,  17,  77],\n",
              "       [170,  26, 122]])"
            ]
          },
          "metadata": {},
          "execution_count": 103
        }
      ]
    },
    {
      "cell_type": "code",
      "source": [
        "#solucion de ecuaciones simultaneas\n",
        "# A*x=b\n",
        "\n",
        "A= np.matrix(\n",
        "  [\n",
        "    [2,3,-4],\n",
        "    [1,-1,3],\n",
        "    [2,5,-1]\n",
        "  ]\n",
        ")\n",
        "b= np.matrix( [\n",
        "      [-4],\n",
        "      [8] ,\n",
        "      [9]        \n",
        "  ]\n",
        ")\n",
        "\n",
        "A_inv=np.linalg.inv(A)\n",
        "x= A_inv.dot(b)"
      ],
      "metadata": {
        "id": "CAwGJAXBMpej"
      },
      "execution_count": 116,
      "outputs": []
    },
    {
      "cell_type": "code",
      "source": [
        "x"
      ],
      "metadata": {
        "colab": {
          "base_uri": "https://localhost:8080/"
        },
        "id": "lXz53qX4Pmkd",
        "outputId": "4210f854-3f90-4672-fff8-b10158a26096"
      },
      "execution_count": 117,
      "outputs": [
        {
          "output_type": "execute_result",
          "data": {
            "text/plain": [
              "matrix([[1.],\n",
              "        [2.],\n",
              "        [3.]])"
            ]
          },
          "metadata": {},
          "execution_count": 117
        }
      ]
    },
    {
      "cell_type": "code",
      "source": [
        "np.linalg.solve(A,b)"
      ],
      "metadata": {
        "colab": {
          "base_uri": "https://localhost:8080/"
        },
        "id": "y0z3KpBZQfRm",
        "outputId": "7de33a3a-54c0-4aa2-cd44-221d082cc2be"
      },
      "execution_count": 118,
      "outputs": [
        {
          "output_type": "execute_result",
          "data": {
            "text/plain": [
              "matrix([[1.],\n",
              "        [2.],\n",
              "        [3.]])"
            ]
          },
          "metadata": {},
          "execution_count": 118
        }
      ]
    },
    {
      "cell_type": "code",
      "source": [
        ""
      ],
      "metadata": {
        "id": "QrRmlaLbRxIf"
      },
      "execution_count": null,
      "outputs": []
    },
    {
      "cell_type": "code",
      "source": [
        "A=np.matrix(\n",
        "  [\n",
        "    [1,6,-2],\n",
        "    [1,-3,7],\n",
        "    [5,1,1],\n",
        "  ]\n",
        ")\n",
        "b=np.matrix([7,16,10])\n",
        "x=np.linalg.solve(A,b.transpose())\n",
        "x"
      ],
      "metadata": {
        "colab": {
          "base_uri": "https://localhost:8080/"
        },
        "id": "NBEtJ2y3Qnn2",
        "outputId": "7634bcb4-6077-48da-e677-be0cc840bdfb"
      },
      "execution_count": 125,
      "outputs": [
        {
          "output_type": "execute_result",
          "data": {
            "text/plain": [
              "matrix([[1.],\n",
              "        [2.],\n",
              "        [3.]])"
            ]
          },
          "metadata": {},
          "execution_count": 125
        }
      ]
    },
    {
      "cell_type": "code",
      "source": [
        "A.dot(x)"
      ],
      "metadata": {
        "colab": {
          "base_uri": "https://localhost:8080/"
        },
        "id": "dW7A9ALbRKQR",
        "outputId": "ac0e6412-ea2e-4033-e13e-997b1170109f"
      },
      "execution_count": 123,
      "outputs": [
        {
          "output_type": "execute_result",
          "data": {
            "text/plain": [
              "matrix([[-5.55111512e-17],\n",
              "        [ 1.00000000e+00],\n",
              "        [ 2.00000000e+00],\n",
              "        [ 2.77555756e-17]])"
            ]
          },
          "metadata": {},
          "execution_count": 123
        }
      ]
    }
  ]
}